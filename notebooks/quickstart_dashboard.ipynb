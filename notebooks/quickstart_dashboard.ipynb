{
 "cells": [
  {
   "cell_type": "markdown",
   "id": "be34c7fd",
   "metadata": {},
   "source": [
    "# Quickstart Dashboard 入门指南\n",
    "\n",
    "**English:** Quickstart Dashboard Getting Started Guide  \n",
    "**日本語:** Quickstart Dashboard 入門ガイド"
   ]
  },
  {
   "cell_type": "markdown",
   "id": "5c70fa7f",
   "metadata": {},
   "source": [
    "本笔记帮助你快速体验 `notebooks/quickstart_dashboard.py` 中提供的轻量级统计仪表盘框架。通过少量代码即可把 Git2Base 的分析结果渲染成可交互的项目/运行选择页面，并在“全部”及各技术栈标签页查看单次运行卡片，在“趋势分析”标签中对比历史指标。\n",
    "\n",
    "**English:** This notebook helps you quickly experience the lightweight statistics dashboard framework provided in `notebooks/quickstart_dashboard.py`. With only a small amount of code you can render Git2Base analysis results into an interactive project/run selection page, view single-run cards on the “All” and individual tech stack tabs, and compare historical metrics within the “Trend Analysis” tab.  \n",
    "**日本語:** このノートブックでは、`notebooks/quickstart_dashboard.py` で提供される軽量な統計ダッシュボードフレームワークを素早く体験できます。少しのコードだけで Git2Base の分析結果をプロジェクトと実行を選択できるインタラクティブなページとして表示し、「すべて」と各技術スタックのタブで単一実行カードを確認し、「トレンド分析」タブで履歴指標を比較できます。"
   ]
  },
  {
   "cell_type": "markdown",
   "id": "7a707076",
   "metadata": {},
   "source": [
    "## 1. 环境准备\n",
    "\n",
    "**English:** 1. Environment preparation  \n",
    "**日本語:** 1. 環境の準備"
   ]
  },
  {
   "cell_type": "markdown",
   "id": "6c8a1e1a",
   "metadata": {},
   "source": [
    "确保你已经在 `artifacts/` 目录中生成了至少一次分析运行的数据。\n",
    "\n",
    "**English:** Make sure you have generated at least one analysis run inside the `artifacts/` directory.  \n",
    "**日本語:** `artifacts/` ディレクトリ内に少なくとも1回分の分析結果が生成されていることを確認してください。\n",
    "\n",
    "目录结构应类似：\n",
    "\n",
    "**English:** The directory structure should look similar to the following.  \n",
    "**日本語:** 典型的なディレクトリ構成は次のとおりです。\n",
    "\n",
    "```\n",
    "artifacts/\n",
    "  your-project/\n",
    "    runs/\n",
    "      20240101-120000/\n",
    "        data/\n",
    "          commit_files.csv\n",
    "          diff_results.csv\n",
    "          ...\n",
    "```\n",
    "\n",
    "这些 CSV 文件会被仪表盘加载并转换成 Pandas DataFrame。\n",
    "\n",
    "**English:** These CSV files will be loaded by the dashboard and converted into Pandas DataFrames.  \n",
    "**日本語:** これらの CSV ファイルはダッシュボードによって読み込まれ、Pandas DataFrame に変換されます。"
   ]
  },
  {
   "cell_type": "markdown",
   "id": "73ef2ace",
   "metadata": {},
   "source": [
    "## 2. 引入仪表盘框架\n",
    "\n",
    "**English:** 2. Import the dashboard framework  \n",
    "**日本語:** 2. ダッシュボードフレームワークの読み込み"
   ]
  },
  {
   "cell_type": "code",
   "execution_count": null,
   "id": "6189b099",
   "metadata": {},
   "outputs": [],
   "source": [
    "from quickstart_dashboard import (\n",
    "    DiffFileChangeCountStatistic,\n",
    "    QuickstartDashboard,\n",
    "    RecordCountStatistic,\n",
    "    load_statistic_from_notebook,\n",
    ")"
   ]
  },
  {
   "cell_type": "markdown",
   "id": "9c2d23ab",
   "metadata": {},
   "source": [
    "## 3. 创建仪表盘实例\n",
    "\n",
    "默认情况下，框架会从 `../artifacts` 读取数据。如果你的数据位于其他位置，可以使用 `RunDataLoader` 指定新的路径。\n",
    "\n",
    "**English:** By default the framework reads data from `../artifacts`. If your data resides elsewhere, you can provide a custom path through `RunDataLoader`.  \n",
    "**日本語:** 既定ではフレームワークは `../artifacts` からデータを読み込みます。別の場所にデータがある場合は `RunDataLoader` でカスタムパスを指定できます。\n",
    "\n",
    "> 如果你的技术栈配置文件不在默认的 `config/config.yaml` 路径，可以通过 `config_path` 参数传入自定义 YAML。  \n",
    "> **English:** If your tech stack configuration file is not at the default `config/config.yaml` path, pass a custom YAML file through the `config_path` parameter.  \n",
    "> **日本語:** 技術スタックの設定ファイルが既定の `config/config.yaml` にない場合は、`config_path` パラメーターでカスタム YAML ファイルを指定してください。"
   ]
  },
  {
   "cell_type": "code",
   "execution_count": null,
   "id": "c6ea3eb8",
   "metadata": {},
   "outputs": [],
   "source": [
    "# Replace base_dir with the directory that stores your analysis results (relative to this notebook).\n",
    "dashboard = QuickstartDashboard(base_dir=\"../artifacts\")\n",
    "# You can also pass the loader explicitly:\n",
    "# loader = RunDataLoader(base_dir=\"/path/to/artifacts\")\n",
    "# dashboard = QuickstartDashboard(loader=loader)\n"
   ]
  },
  {
   "cell_type": "markdown",
   "id": "d5cf9ab5",
   "metadata": {},
   "source": [
    "## 4. 注册基础统计\n",
    "\n",
    "`RecordCountStatistic` 会根据运行类型自动选择合适的 CSV 表并统计记录数，方便快速校验仪表盘。`DiffFileChangeCountStatistic` 针对 diff 运行统计新增、变更、删除文件数量，snapshot 运行会显示为 N/A。如果你还想查看字符区间分布，可在后续步骤通过加载器引入 `FileCharCountDistributionStatistic` 自定义统计。\n",
    "\n",
    "**English:** `RecordCountStatistic` automatically chooses the appropriate CSV table based on the run type and reports the row count, which is handy for validating the dashboard quickly. `DiffFileChangeCountStatistic` reports the numbers of added, modified, and deleted files for diff runs while showing N/A for snapshot runs. If you also want to inspect character count buckets, load the custom `FileCharCountDistributionStatistic` in later steps.  \n",
    "**日本語:** `RecordCountStatistic` は実行タイプに応じて適切な CSV テーブルを自動的に選択し、行数を集計するため、ダッシュボードの動作確認に便利です。`DiffFileChangeCountStatistic` は diff 実行で追加・変更・削除されたファイル数を算出し、snapshot 実行では N/A を表示します。文字数区間の分布を確認したい場合は、後続の手順でカスタム統計 `FileCharCountDistributionStatistic` をロードしてください。"
   ]
  },
  {
   "cell_type": "code",
   "execution_count": null,
   "id": "998b7716",
   "metadata": {},
   "outputs": [],
   "source": [
    "dashboard.register_statistic(\n",
    "    RecordCountStatistic()\n",
    ")\n",
    "dashboard.register_statistic(\n",
    "    DiffFileChangeCountStatistic()\n",
    ")"
   ]
  },
  {
   "cell_type": "markdown",
   "id": "7a54a21a",
   "metadata": {},
   "source": [
    "## 5. 自定义你的统计卡片\n",
    "\n",
    "在 `notebooks/custom_statistics/` 目录下创建专用的开发 notebook，使用其中的可视化单元调试统计逻辑。完成后，通过下面的加载器将 notebook 中的 `BaseStatistic` 子类引入到当前 quickstart 环境。\n",
    "\n",
    "**English:** Create a dedicated development notebook inside `notebooks/custom_statistics/` and use its visualization cells to debug your statistic logic. After finishing the implementation, use the loader below to import the `BaseStatistic` subclasses from that notebook into the current quickstart environment.  \n",
    "**日本語:** `notebooks/custom_statistics/` ディレクトリに開発用ノートブックを作成し、可視化セルを利用して統計ロジックを調整してください。実装が完了したら、以下のローダーでそのノートブック内の `BaseStatistic` サブクラスを現在のクイックスタート環境に読み込みます。"
   ]
  },
  {
   "cell_type": "code",
   "execution_count": null,
   "id": "0621b57f",
   "metadata": {},
   "outputs": [],
   "source": [
    "# Use the loader to bring statistic classes from development notebooks into this session.\n",
    "# Cells that are only for previewing can include a 'skip-loader' tag in metadata\n",
    "# to avoid executing helper code when importing through the loader.\n",
    "# If the notebook defines multiple statistic classes, pass class_name to choose one.\n",
    "FileCharCountDistributionStatistic = load_statistic_from_notebook(\n",
    "    \"custom_statistics/file_char_count_distribution_statistic.ipynb\"\n",
    ")\n",
    "UniqueAuthorsStatistic = load_statistic_from_notebook(\n",
    "    \"custom_statistics/unique_authors_statistic.ipynb\"\n",
    ")\n"
   ]
  },
  {
   "cell_type": "code",
   "execution_count": null,
   "id": "1e363314",
   "metadata": {},
   "outputs": [],
   "source": [
    "# Register custom statistics (add as many as you need)\n",
    "dashboard.register_statistic(FileCharCountDistributionStatistic())\n",
    "dashboard.register_statistic(UniqueAuthorsStatistic())\n"
   ]
  },
  {
   "cell_type": "markdown",
   "id": "0c7c021f",
   "metadata": {},
   "source": [
    "## 6. 展示仪表盘\n",
    "\n",
    "运行下方单元格，即可在 Jupyter 中看到交互式仪表盘。当你新增或删除运行结果后，可调用 `dashboard.refresh()` 重新加载数据。\n",
    "\n",
    "**English:** Run the cell below to display the interactive dashboard inside Jupyter. Whenever you add or remove run results, call `dashboard.refresh()` to load the latest data.  \n",
    "**日本語:** 下のセルを実行すると、Jupyter 上でインタラクティブなダッシュボードが表示されます。実行結果を追加または削除したときは、`dashboard.refresh()` を呼び出して最新のデータを読み込んでください。\n",
    "\n",
    "> 技术栈切换：仪表盘会读取 `config/config.yaml` 中的 `stacks` 配置，并在每个仓库下按技术栈拆分标签页。 可以在这些标签页中查看所选运行的单次结果；而“趋势分析”标签提供技术栈、统计种类、执行类型与运行筛选，用于对比历史趋势。  \n",
    "> **English:** Tech stack switching: the dashboard reads the `stacks` configuration from `config/config.yaml` and creates tabs per stack under each repository. Use these tabs to inspect single-run results for the selected run, while the “Trend Analysis” tab offers stack, statistic, execution type, and run filters for comparing historical trends.  \n",
    "> **日本語:** 技術スタックの切り替え: ダッシュボードは `config/config.yaml` の `stacks` 設定を読み込み、各リポジトリの下にスタックごとのタブを作成します。これらのタブでは選択した実行の単一結果を確認でき、「トレンド分析」タブではスタック・統計種類・実行タイプ・実行のフィルターを使って履歴トレンドを比較できます。"
   ]
  },
  {
   "cell_type": "code",
   "execution_count": null,
   "id": "f02452df",
   "metadata": {},
   "outputs": [],
   "source": [
    "dashboard.show()\n",
    "# Call dashboard.refresh() if you need to reload data\n",
    "# dashboard.refresh()\n"
   ]
  }
 ],
 "metadata": {
  "kernelspec": {
   "display_name": "Python 3",
   "language": "python",
   "name": "python3"
  },
  "language_info": {
   "name": "python",
   "version": "3.11"
  }
 },
 "nbformat": 4,
 "nbformat_minor": 5
}
