{
 "cells": [
  {
   "cell_type": "markdown",
   "id": "be34c7fd",
   "metadata": {},
   "source": [
    "# Quickstart Dashboard 入门指南"
   ]
  },
  {
   "cell_type": "markdown",
   "id": "5c70fa7f",
   "metadata": {},
   "source": [
    "本笔记帮助你快速体验 `notebooks/quickstart_dashboard.py` 中提供的轻量级统计仪表盘框架。\n",
    "通过少量代码即可把 Git2Base 的分析结果渲染成可交互的项目/运行选择页面，并在“全部”及各技术栈标签页查看单次运行卡片，在“趋势分析”标签中对比历史指标。"
   ]
  },
  {
   "cell_type": "markdown",
   "id": "7a707076",
   "metadata": {},
   "source": [
    "## 1. 环境准备"
   ]
  },
  {
   "cell_type": "markdown",
   "id": "6c8a1e1a",
   "metadata": {},
   "source": [
    "确保你已经在 `artifacts/` 目录中生成了至少一次分析运行的数据。\n",
    "\"\n",
    "    \"目录结构应类似：\n",
    "\"\n",
    "    \"```\n",
    "artifacts/\n",
    "  your-project/\n",
    "    runs/\n",
    "      20240101-120000/\n",
    "        data/\n",
    "          commit_files.csv\n",
    "          diff_results.csv\n",
    "          ...\n",
    "```\n",
    "\"\n",
    "    \"这些 CSV 文件会被仪表盘加载并转换成 Pandas DataFrame。"
   ]
  },
  {
   "cell_type": "markdown",
   "id": "73ef2ace",
   "metadata": {},
   "source": [
    "## 2. 引入仪表盘框架"
   ]
  },
  {
   "cell_type": "code",
   "execution_count": null,
   "id": "6189b099",
   "metadata": {},
   "outputs": [],
   "source": [
    "from quickstart_dashboard import (\n",
    "    DiffFileChangeCountStatistic,\n",
    "    QuickstartDashboard,\n",
    "    RecordCountStatistic,\n",
    "    load_statistic_from_notebook,\n",
    ")"
   ]
  },
  {
   "cell_type": "markdown",
   "id": "9c2d23ab",
   "metadata": {},
   "source": [
    "## 3. 创建仪表盘实例\n",
    "默认情况下，框架会从 `../artifacts` 读取数据。\n",
    "如果你的数据位于其他位置，可以使用 `RunDataLoader` 指定新的路径。\n",
    "\n",
    "> 如果你的技术栈配置文件不在默认的 `config/config.yaml` 路径，可以通过 `config_path` 参数传入自定义 YAML。"
   ]
  },
  {
   "cell_type": "code",
   "execution_count": null,
   "id": "c6ea3eb8",
   "metadata": {},
   "outputs": [],
   "source": [
    "# 将 base_dir 替换成你实际存放分析结果的目录（相对于当前 notebook）。\n",
    "dashboard = QuickstartDashboard(base_dir=\"../artifacts\")\n",
    "# 你也可以显式传入 loader：\n",
    "# loader = RunDataLoader(base_dir=\"/path/to/artifacts\")\n",
    "# dashboard = QuickstartDashboard(loader=loader)\n"
   ]
  },
  {
   "cell_type": "markdown",
   "id": "d5cf9ab5",
   "metadata": {},
   "source": [
    "## 4. 注册基础统计\n",
    "`RecordCountStatistic` 会根据运行类型自动选择合适的 CSV 表并统计记录数，方便快速校验仪表盘。\n",
    "`DiffFileChangeCountStatistic` 针对 diff 运行统计新增、变更、删除文件数量，snapshot 运行会显示为 N/A。\n",
    "如果你还想查看字符区间分布，可在后续步骤通过加载器引入 `FileCharCountDistributionStatistic` 自定义统计。"
   ]
  },
  {
   "cell_type": "code",
   "execution_count": null,
   "id": "998b7716",
   "metadata": {},
   "outputs": [],
   "source": [
    "dashboard.register_statistic(\n",
    "    RecordCountStatistic()\n",
    ")\n",
    "dashboard.register_statistic(\n",
    "    DiffFileChangeCountStatistic()\n",
    ")"
   ]
  },
  {
   "cell_type": "markdown",
   "id": "7a54a21a",
   "metadata": {},
   "source": [
    "## 5. 自定义你的统计卡片\n",
    "\n",
    "在 `notebooks/custom_statistics/` 目录下创建专用的开发 notebook，使用其中的可视化单元调试统计逻辑。完成后，通过下面的加载器将 notebook 中的 `BaseStatistic` 子类引入到当前 quickstart 环境。"
   ]
  },
  {
   "cell_type": "code",
   "execution_count": null,
   "id": "0621b57f",
   "metadata": {},
   "outputs": [],
   "source": [
    "# 使用加载器将开发 notebook 中的类引入当前会话。\n",
    "# 仅预览使用的单元格可在 metadata.tags 中添加 'skip-loader'，\n",
    "# 以避免通过加载器导入时执行这些辅助代码。\n",
    "# 如果 notebook 中定义了多个统计类，可以传入 class_name 参数进行选择。\n",
    "FileCharCountDistributionStatistic = load_statistic_from_notebook(\n",
    "    \"custom_statistics/file_char_count_distribution_statistic.ipynb\"\n",
    ")\n",
    "UniqueAuthorsStatistic = load_statistic_from_notebook(\n",
    "    \"custom_statistics/unique_authors_statistic.ipynb\"\n",
    ")"
   ]
  },
  {
   "cell_type": "code",
   "execution_count": null,
   "id": "1e363314",
   "metadata": {},
   "outputs": [],
   "source": [
    "# 注册自定义统计（可按需添加多个）\n",
    "dashboard.register_statistic(FileCharCountDistributionStatistic())\n",
    "dashboard.register_statistic(UniqueAuthorsStatistic())"
   ]
  },
  {
   "cell_type": "markdown",
   "id": "0c7c021f",
   "metadata": {},
   "source": [
    "## 6. 展示仪表盘\n",
    "运行下方单元格，即可在 Jupyter 中看到交互式仪表盘。\n",
    "当你新增或删除运行结果后，可调用 `dashboard.refresh()` 重新加载数据。\n",
    "\n",
    "> 技术栈切换：仪表盘会读取 `config/config.yaml` 中的 `stacks` 配置，并在每个仓库下按技术栈拆分标签页。 可以在这些标签页中查看所选运行的单次结果；而“趋势分析”标签提供技术栈、统计种类、执行类型与运行筛选，用于对比历史趋势。"
   ]
  },
  {
   "cell_type": "code",
   "execution_count": null,
   "id": "f02452df",
   "metadata": {},
   "outputs": [],
   "source": [
    "dashboard.show()\n",
    "# 如需刷新数据：\n",
    "# dashboard.refresh()\n"
   ]
  }
 ],
 "metadata": {
  "kernelspec": {
   "display_name": "Python 3",
   "language": "python",
   "name": "python3"
  },
  "language_info": {
   "name": "python",
   "version": "3.11"
  }
 },
 "nbformat": 4,
 "nbformat_minor": 5
}
