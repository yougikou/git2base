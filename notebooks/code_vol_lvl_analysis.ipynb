{
 "cells": [
  {
   "cell_type": "markdown",
   "id": "a28bd7bf",
   "metadata": {},
   "source": [
    "# Git 分析 Notebook\n",
    "统计每个 commit 中各个预定义技术栈文件的代码量等级文件数量分布"
   ]
  },
  {
   "cell_type": "markdown",
   "id": "14cce4d9",
   "metadata": {},
   "source": [
    "### 从Data路径下加载多个分析结果"
   ]
  },
  {
   "cell_type": "code",
   "execution_count": 3,
   "id": "e44e4303",
   "metadata": {},
   "outputs": [
    {
     "name": "stdout",
     "output_type": "stream",
     "text": [
      "✅ 已设置字体为：Arial Unicode MS\n"
     ]
    },
    {
     "data": {
      "application/vnd.jupyter.widget-view+json": {
       "model_id": "90ed9f7472aa4fdaa09c5522d286a128",
       "version_major": 2,
       "version_minor": 0
      },
      "text/plain": [
       "Dropdown(description='Repo:', layout=Layout(width='50%'), options=('git2base',), value='git2base')"
      ]
     },
     "metadata": {},
     "output_type": "display_data"
    },
    {
     "data": {
      "application/vnd.jupyter.widget-view+json": {
       "model_id": "738ea01491904312af113f9b5e501f35",
       "version_major": 2,
       "version_minor": 0
      },
      "text/plain": [
       "Dropdown(description='Run:', layout=Layout(width='50%'), options=('snapshot_20250728_155908', 'snapshot_202507…"
      ]
     },
     "metadata": {},
     "output_type": "display_data"
    }
   ],
   "source": [
    "from notebook_utils import select_repo_and_run, set_cjk_font\n",
    "\n",
    "set_cjk_font()\n",
    "\n",
    "base_dir=\"../data\"\n",
    "repo_selector, run_selector = select_repo_and_run(base_dir)"
   ]
  },
  {
   "cell_type": "markdown",
   "id": "f40d4e56",
   "metadata": {},
   "source": [
    "### 从选择路径下加载CSV"
   ]
  },
  {
   "cell_type": "code",
   "execution_count": 4,
   "id": "8bbdf4b9",
   "metadata": {},
   "outputs": [
    {
     "name": "stdout",
     "output_type": "stream",
     "text": [
      "Selected path: ../data/git2base/snapshot_20250728_155908\n",
      "✅ Loaded: commit_files.csv (27 rows)\n",
      "❌ File not found: diff_results.csv\n",
      "✅ Loaded: analysis_results.csv (16 rows)\n",
      "✅ Loaded: commits.csv (1 rows)\n"
     ]
    }
   ],
   "source": [
    "from typing import cast\n",
    "\n",
    "from pandas import DataFrame\n",
    "from notebook_utils import load_csv_results\n",
    "\n",
    "selected_path, loaded_dfs = load_csv_results(repo_selector, run_selector, base_dir)\n",
    "\n",
    "# 使用具体的 DataFrame\n",
    "commit_files_df = cast(DataFrame, loaded_dfs.get(\"commit_files_df\"))\n",
    "diff_results_df = cast(DataFrame, loaded_dfs.get(\"diff_results_df\"))\n",
    "analysis_results_df = cast(DataFrame, loaded_dfs.get(\"analysis_results_df\"))\n",
    "commits_df = cast(DataFrame, loaded_dfs.get(\"commits_df\"))"
   ]
  },
  {
   "cell_type": "markdown",
   "id": "438a4c83",
   "metadata": {},
   "source": [
    "### 合并数据"
   ]
  },
  {
   "cell_type": "code",
   "execution_count": 5,
   "id": "2713499a",
   "metadata": {},
   "outputs": [
    {
     "data": {
      "text/plain": [
       "array([nan, 'FileLineCount', 'FileCharCount'], dtype=object)"
      ]
     },
     "execution_count": 5,
     "metadata": {},
     "output_type": "execute_result"
    }
   ],
   "source": [
    "import pandas as pd\n",
    "\n",
    "# 重命名 commits.csv 中的 hash 字段\n",
    "commits_df = commits_df.rename(columns={\"hash\": \"commit_hash\"})\n",
    "\n",
    "# 合并 commit_files 和 analysis_results（依据 commit_hash 和 path）\n",
    "merged_df = pd.merge(commit_files_df, analysis_results_df, on=[\"commit_hash\", \"path\"], how=\"left\")\n",
    "\n",
    "# 合并 commit 元数据\n",
    "merged_df = pd.merge(merged_df, commits_df, on=\"commit_hash\", how=\"left\")\n",
    "merged_df[\"analyzer_type\"].unique()\n"
   ]
  },
  {
   "cell_type": "markdown",
   "id": "60829b0c",
   "metadata": {},
   "source": [
    "### 提取行数和字符数的记录"
   ]
  },
  {
   "cell_type": "code",
   "execution_count": 6,
   "id": "49c34c50",
   "metadata": {},
   "outputs": [],
   "source": [
    "# 提取 line_count 和 char_count 两种分析类型的记录\n",
    "line_df = merged_df[merged_df[\"analyzer_type\"] == \"FileLineCount\"]\n",
    "char_df = merged_df[merged_df[\"analyzer_type\"] == \"FileCharCount\"]"
   ]
  },
  {
   "cell_type": "markdown",
   "id": "591709c7",
   "metadata": {},
   "source": [
    "### 统计每个技术栈代码的代码量等级文件数分布"
   ]
  },
  {
   "cell_type": "code",
   "execution_count": 7,
   "id": "da53610e",
   "metadata": {},
   "outputs": [
    {
     "data": {
      "text/html": [
       "<div>\n",
       "<style scoped>\n",
       "    .dataframe tbody tr th:only-of-type {\n",
       "        vertical-align: middle;\n",
       "    }\n",
       "\n",
       "    .dataframe tbody tr th {\n",
       "        vertical-align: top;\n",
       "    }\n",
       "\n",
       "    .dataframe thead th {\n",
       "        text-align: right;\n",
       "    }\n",
       "</style>\n",
       "<table border=\"1\" class=\"dataframe\">\n",
       "  <thead>\n",
       "    <tr style=\"text-align: right;\">\n",
       "      <th>char_level</th>\n",
       "      <th>1k-2k</th>\n",
       "      <th>2k-3k</th>\n",
       "      <th>3k-10k</th>\n",
       "      <th>10k-50k</th>\n",
       "    </tr>\n",
       "    <tr>\n",
       "      <th>tech_stack</th>\n",
       "      <th></th>\n",
       "      <th></th>\n",
       "      <th></th>\n",
       "      <th></th>\n",
       "    </tr>\n",
       "  </thead>\n",
       "  <tbody>\n",
       "    <tr>\n",
       "      <th>PyTest</th>\n",
       "      <td>0</td>\n",
       "      <td>1</td>\n",
       "      <td>0</td>\n",
       "      <td>0</td>\n",
       "    </tr>\n",
       "    <tr>\n",
       "      <th>Python</th>\n",
       "      <td>0</td>\n",
       "      <td>2</td>\n",
       "      <td>3</td>\n",
       "      <td>1</td>\n",
       "    </tr>\n",
       "    <tr>\n",
       "      <th>Yaml</th>\n",
       "      <td>1</td>\n",
       "      <td>0</td>\n",
       "      <td>0</td>\n",
       "      <td>0</td>\n",
       "    </tr>\n",
       "  </tbody>\n",
       "</table>\n",
       "</div>"
      ],
      "text/plain": [
       "char_level  1k-2k  2k-3k  3k-10k  10k-50k\n",
       "tech_stack                               \n",
       "PyTest          0      1       0        0\n",
       "Python          0      2       3        1\n",
       "Yaml            1      0       0        0"
      ]
     },
     "execution_count": 7,
     "metadata": {},
     "output_type": "execute_result"
    }
   ],
   "source": [
    "import pandas as pd\n",
    "import matplotlib.pyplot as plt\n",
    "\n",
    "# 提取 char_count 分析结果\n",
    "char_df = merged_df[merged_df[\"analyzer_type\"] == \"FileCharCount\"].copy()\n",
    "\n",
    "# 定义分界点\n",
    "bins = [0, 1000, 2000, 3000, 10000, 50000, float(\"inf\")]\n",
    "\n",
    "# 定义对应的标签\n",
    "labels = [\"<1k\", \"1k-2k\", \"2k-3k\", \"3k-10k\", \"10k-50k\", \">=50k\"]\n",
    "\n",
    "# 添加一个等级列\n",
    "char_df[\"char_level\"] = pd.cut(char_df[\"count\"], bins=bins, labels=labels, right=False)\n",
    "\n",
    "char_stats = (\n",
    "    char_df.groupby([\"tech_stack\", \"char_level\"], observed=True)\n",
    "      .size()\n",
    "      .unstack(fill_value=0)\n",
    ")\n",
    "char_stats"
   ]
  },
  {
   "cell_type": "markdown",
   "id": "e182173e",
   "metadata": {},
   "source": [
    "### 绘制文件分布柱状图（按各个等级的文件数量）"
   ]
  },
  {
   "cell_type": "code",
   "execution_count": 8,
   "id": "916a0c36",
   "metadata": {},
   "outputs": [
    {
     "data": {
      "image/png": "[encoded data removed]",
      "text/plain": [
       "<Figure size 1200x600 with 1 Axes>"
      ]
     },
     "metadata": {},
     "output_type": "display_data"
    }
   ],
   "source": [
    "char_stats.plot(kind=\"bar\", stacked=True, figsize=(12, 6))\n",
    "plt.title(\"各技术栈的文件等级分布（按字符数）\")\n",
    "plt.ylabel(\"文件数量\")\n",
    "plt.xticks(rotation=45)\n",
    "plt.tight_layout()\n",
    "plt.show()"
   ]
  },
  {
   "cell_type": "markdown",
   "id": "70324978",
   "metadata": {},
   "source": [
    "## 保存结果为 CSV"
   ]
  },
  {
   "cell_type": "code",
   "execution_count": 9,
   "id": "826378b3",
   "metadata": {},
   "outputs": [
    {
     "name": "stdout",
     "output_type": "stream",
     "text": [
      "✅ 已保存分析结果至 output/filechar_agg_by_techstack.csv\n"
     ]
    }
   ],
   "source": [
    "char_stats.to_csv(\"output/filechar_agg_by_techstack.csv\", index=False)\n",
    "print(\"✅ 已保存分析结果至 output/filechar_agg_by_techstack.csv\")\n"
   ]
  }
 ],
 "metadata": {
  "kernelspec": {
   "display_name": "venv",
   "language": "python",
   "name": "python3"
  },
  "language_info": {
   "codemirror_mode": {
    "name": "ipython",
    "version": 3
   },
   "file_extension": ".py",
   "mimetype": "text/x-python",
   "name": "python",
   "nbconvert_exporter": "python",
   "pygments_lexer": "ipython3",
   "version": "3.13.1"
  }
 },
 "nbformat": 4,
 "nbformat_minor": 5
}
