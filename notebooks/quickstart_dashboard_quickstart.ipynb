{
 "cells": [
  {
   "cell_type": "markdown",
   "id": "be34c7fd",
   "metadata": {},
   "source": [
    "# Quickstart Dashboard 入门指南"
   ]
  },
  {
   "cell_type": "markdown",
   "id": "5c70fa7f",
   "metadata": {},
   "source": [
    "本笔记帮助你快速体验 `notebooks/quickstart_dashboard.py` 中提供的轻量级统计仪表盘框架。\n",
    "通过少量代码即可把 Git2Base 的分析结果渲染成可交互的项目/运行选择页面，并在单次执行与趋势视图中展示自定义指标。"
   ]
  },
  {
   "cell_type": "markdown",
   "id": "7a707076",
   "metadata": {},
   "source": [
    "## 1. 环境准备"
   ]
  },
  {
   "cell_type": "markdown",
   "id": "6c8a1e1a",
   "metadata": {},
   "source": [
    "确保你已经在 `artifacts/` 目录中生成了至少一次分析运行的数据。\n",
    "\"\n",
    "    \"目录结构应类似：\n",
    "\"\n",
    "    \"```\n",
    "artifacts/\n",
    "  your-project/\n",
    "    runs/\n",
    "      20240101-120000/\n",
    "        data/\n",
    "          commit_files.csv\n",
    "          diff_results.csv\n",
    "          ...\n",
    "```\n",
    "\"\n",
    "    \"这些 CSV 文件会被仪表盘加载并转换成 Pandas DataFrame。"
   ]
  },
  {
   "cell_type": "markdown",
   "id": "73ef2ace",
   "metadata": {},
   "source": [
    "## 2. 引入仪表盘框架"
   ]
  },
  {
   "cell_type": "code",
   "execution_count": null,
   "id": "6189b099",
   "metadata": {},
   "outputs": [],
   "source": [
    "from quickstart_dashboard import QuickstartDashboard, RecordCountStatistic\n",
    "from quickstart_dashboard import RunDataLoader  # 可选：自定义数据目录\n"
   ]
  },
  {
   "cell_type": "markdown",
   "id": "9c2d23ab",
   "metadata": {},
   "source": [
    "## 3. 创建仪表盘实例\n",
    "默认情况下，框架会从 `../artifacts` 读取数据。\n",
    "如果你的数据位于其他位置，可以使用 `RunDataLoader` 指定新的路径。"
   ]
  },
  {
   "cell_type": "code",
   "execution_count": null,
   "id": "c6ea3eb8",
   "metadata": {},
   "outputs": [],
   "source": [
    "# 将 base_dir 替换成你实际存放分析结果的目录（相对于当前 notebook）。\n",
    "dashboard = QuickstartDashboard(base_dir=\"../artifacts\")\n",
    "# 你也可以显式传入 loader：\n",
    "# loader = RunDataLoader(base_dir=\"/path/to/artifacts\")\n",
    "# dashboard = QuickstartDashboard(loader=loader)\n"
   ]
  },
  {
   "cell_type": "markdown",
   "id": "d5cf9ab5",
   "metadata": {},
   "source": [
    "## 4. 注册基础统计\n",
    "`RecordCountStatistic` 是一个简单示例：它会统计某个 CSV 表的行数。\n",
    "可以快速验证仪表盘是否正常工作。"
   ]
  },
  {
   "cell_type": "code",
   "execution_count": null,
   "id": "998b7716",
   "metadata": {},
   "outputs": [],
   "source": [
    "dashboard.register_statistic(\n",
    "    RecordCountStatistic(\n",
    "        name=\"分析文件数\",\n",
    "        table_key=\"commit_files_df\",\n",
    "        description=\"每次运行处理的文件数量\",\n",
    "    )\n",
    ")\n"
   ]
  },
  {
   "cell_type": "markdown",
   "id": "7a54a21a",
   "metadata": {},
   "source": [
    "## 5. 自定义你的统计卡片\n",
    "通过继承框架中的 `BaseStatistic`（`RecordCountStatistic` 就是实现之一）即可新增统计。\n",
    "下面演示如何统计每次运行涉及的唯一作者数量。"
   ]
  },
  {
   "cell_type": "code",
   "execution_count": null,
   "id": "0621b57f",
   "metadata": {},
   "outputs": [],
   "source": [
    "from typing import Optional\n",
    "\n",
    "import pandas as pd\n",
    "import ipywidgets as widgets\n",
    "import matplotlib.pyplot as plt\n",
    "\n",
    "from quickstart_dashboard import BaseStatistic, RunData, RunHistory, _stat_card\n",
    "\n",
    "\n",
    "class UniqueAuthorsStatistic(BaseStatistic):\n",
    "    \"\"\"统计 diff 结果中出现的唯一作者数量。\"\"\"\n",
    "\n",
    "    def __init__(self) -> None:\n",
    "        self.name = \"唯一作者数\"\n",
    "        self.description = \"根据 diff_results.csv 的 author 列计算\"\n",
    "\n",
    "    def _extract(self, run: RunData) -> Optional[int]:\n",
    "        df = run.dataframes.get(\"diff_results_df\")\n",
    "        if df is None or \"author\" not in df.columns:\n",
    "            return None\n",
    "        return int(pd.Series(df[\"author\"]).dropna().nunique())\n",
    "\n",
    "    def render_single(self, run: RunData):\n",
    "        value = self._extract(run)\n",
    "        display_value = value if value is not None else \"N/A\"\n",
    "        return _stat_card(self.name, display_value, self.description)\n",
    "\n",
    "    def render_trend(self, history: RunHistory):\n",
    "        records = []\n",
    "        for run in history.runs:\n",
    "            value = self._extract(run)\n",
    "            if value is not None:\n",
    "                records.append({\"label\": run.display_label, \"value\": value})\n",
    "\n",
    "        if not records:\n",
    "            return widgets.HTML(value=\"<div style='color:#666;'>暂无唯一作者统计数据。</div>\")\n",
    "\n",
    "        df = pd.DataFrame(records)\n",
    "        output = widgets.Output()\n",
    "        with output:\n",
    "            fig, ax = plt.subplots(figsize=(6, 3))\n",
    "            ax.plot(df[\"label\"], df[\"value\"], marker=\"o\")\n",
    "            ax.set_title(self.name)\n",
    "            ax.set_xlabel(\"Run\")\n",
    "            ax.set_ylabel(\"Authors\")\n",
    "            ax.grid(True, linestyle=\"--\", alpha=0.3)\n",
    "            plt.xticks(rotation=30, ha=\"right\")\n",
    "            plt.tight_layout()\n",
    "            display(fig)\n",
    "            plt.close(fig)\n",
    "\n",
    "        header = widgets.HTML(\n",
    "            value=f\"<b>{self.name}</b><div style='color:#666;font-size:11px;'>{self.description}</div>\"\n",
    "        )\n",
    "        return widgets.VBox([header, output])\n"
   ]
  },
  {
   "cell_type": "code",
   "execution_count": null,
   "id": "1e363314",
   "metadata": {},
   "outputs": [],
   "source": [
    "# 注册自定义统计（可按需添加多个）\n",
    "dashboard.register_statistic(UniqueAuthorsStatistic())\n"
   ]
  },
  {
   "cell_type": "markdown",
   "id": "0c7c021f",
   "metadata": {},
   "source": [
    "## 6. 展示仪表盘\n",
    "运行下方单元格，即可在 Jupyter 中看到交互式仪表盘。\n",
    "当你新增或删除运行结果后，可调用 `dashboard.refresh()` 重新加载数据。"
   ]
  },
  {
   "cell_type": "code",
   "execution_count": null,
   "id": "f02452df",
   "metadata": {},
   "outputs": [],
   "source": [
    "dashboard.show()\n",
    "# 如需刷新数据：\n",
    "# dashboard.refresh()\n"
   ]
  }
 ],
 "metadata": {
  "kernelspec": {
   "display_name": "Python 3",
   "language": "python",
   "name": "python3"
  },
  "language_info": {
   "name": "python",
   "version": "3.11"
  }
 },
 "nbformat": 4,
 "nbformat_minor": 5
}
