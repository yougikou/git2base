{
 "cells": [
  {
   "cell_type": "markdown",
   "id": "033476de",
   "metadata": {},
   "source": [
    "# UniqueAuthorsStatistic 开发笔记\n",
    "\n",
    "本 notebook 演示如何在快速上手框架中开发、调试并导出一个自定义统计卡片。"
   ]
  },
  {
   "cell_type": "markdown",
   "id": "cc476fb9",
   "metadata": {},
   "source": [
    "## 数据准备\n",
    "\n",
    "运行下方单元以加载示例运行数据。如果你的 `artifacts` 目录下有多个项目，可以自行修改 `repo_name` 和 `run_name` 变量以选中想要调试的执行结果。"
   ]
  },
  {
   "cell_type": "code",
   "execution_count": null,
   "id": "5e4763e5",
   "metadata": {},
   "outputs": [],
   "source": [
    "from quickstart_dashboard import RunDataLoader\n",
    "\n",
    "loader = RunDataLoader(base_dir=\"../artifacts\")\n",
    "repos = loader.list_repos()\n",
    "\n",
    "if not repos:\n",
    "    print(\"⚠️ 未找到任何项目，请确认 ../artifacts 目录存在分析结果。\")\n",
    "    repo_name = None\n",
    "    run_name = None\n",
    "    sample_run = None\n",
    "    sample_history = None\n",
    "else:\n",
    "    repo_name = repos[0]\n",
    "    print(f\"使用示例项目: {repo_name}\")\n",
    "    runs = loader.list_runs(repo_name)\n",
    "    if not runs:\n",
    "        print(\"⚠️ 项目下暂未找到运行记录。\")\n",
    "        run_name = None\n",
    "        sample_run = None\n",
    "        sample_history = None\n",
    "    else:\n",
    "        run_name = runs[0]\n",
    "        print(f\"使用示例运行: {run_name}\")\n",
    "        sample_run = loader.load_run(repo_name, run_name)\n",
    "        sample_history = loader.load_history(repo_name, limit=20)\n"
   ]
  },
  {
   "cell_type": "markdown",
   "id": "a9e0dfd9",
   "metadata": {},
   "source": [
    "## 定义统计卡片\n",
    "\n",
    "在下方代码单元中实现统计逻辑。运行单元后，类会出现在当前 Python 会话中，供后续单元调试或导出使用。"
   ]
  },
  {
   "cell_type": "code",
   "execution_count": null,
   "id": "92ace53a",
   "metadata": {},
   "outputs": [],
   "source": [
    "from typing import Optional\n",
    "\n",
    "import pandas as pd\n",
    "import ipywidgets as widgets\n",
    "import matplotlib.pyplot as plt\n",
    "\n",
    "from quickstart_dashboard import BaseStatistic, RunData, RunHistory, _stat_card\n",
    "\n",
    "\n",
    "class UniqueAuthorsStatistic(BaseStatistic):\n",
    "    \"\"\"统计 diff 结果中出现的唯一作者数量。\"\"\"\n",
    "\n",
    "    def __init__(self) -> None:\n",
    "        self.name = \"唯一作者数\"\n",
    "        self.description = \"根据 diff_results.csv 的 author 列计算\"\n",
    "\n",
    "    def _extract(self, run: RunData) -> Optional[int]:\n",
    "        df = run.dataframes.get(\"diff_results_df\") if run else None\n",
    "        if df is None or \"author\" not in df.columns:\n",
    "            return None\n",
    "        return int(pd.Series(df[\"author\"]).dropna().nunique())\n",
    "\n",
    "    def render_single(self, run: RunData):\n",
    "        value = self._extract(run)\n",
    "        display_value = value if value is not None else \"N/A\"\n",
    "        return _stat_card(self.name, display_value, self.description)\n",
    "\n",
    "    def render_trend(self, history: RunHistory):\n",
    "        records = []\n",
    "        for run in history.runs if history else []:\n",
    "            value = self._extract(run)\n",
    "            if value is not None:\n",
    "                records.append({\"label\": run.display_label, \"value\": value})\n",
    "\n",
    "        if not records:\n",
    "            return widgets.HTML(value=\"<div style='color:#666;'>暂无唯一作者统计数据。</div>\")\n",
    "\n",
    "        df = pd.DataFrame(records)\n",
    "        output = widgets.Output()\n",
    "        with output:\n",
    "            fig, ax = plt.subplots(figsize=(6, 3))\n",
    "            ax.plot(df[\"label\"], df[\"value\"], marker=\"o\")\n",
    "            ax.set_title(self.name)\n",
    "            ax.set_xlabel(\"Run\")\n",
    "            ax.set_ylabel(\"Authors\")\n",
    "            ax.grid(True, linestyle=\"--\", alpha=0.3)\n",
    "            plt.xticks(rotation=30, ha=\"right\")\n",
    "            plt.tight_layout()\n",
    "            from IPython.display import display\n",
    "            display(fig)\n",
    "            plt.close(fig)\n",
    "\n",
    "        header = widgets.HTML(\n",
    "            value=f\"<b>{self.name}</b><div style='color:#666;font-size:11px;'>{self.description}</div>\"\n",
    "        )\n",
    "        return widgets.VBox([header, output])\n"
   ]
  },
  {
   "cell_type": "markdown",
   "id": "14b6be55",
   "metadata": {},
   "source": [
    "## 调试与预览\n",
    "\n",
    "执行以下单元可以在 notebook 中直接查看卡片效果，便于在整合至仪表盘前快速验证。"
   ]
  },
  {
   "cell_type": "code",
   "execution_count": null,
   "id": "ab014d2c",
   "metadata": {},
   "outputs": [],
   "source": [
    "if sample_run is None:\n",
    "    print(\"⚠️ 没有可用的运行数据，无法预览单次统计卡片。\")\n",
    "else:\n",
    "    stat = UniqueAuthorsStatistic()\n",
    "    stat.render_single(sample_run)\n"
   ]
  },
  {
   "cell_type": "code",
   "execution_count": null,
   "id": "20252a75",
   "metadata": {},
   "outputs": [],
   "source": [
    "if sample_history is None or not sample_history.runs:\n",
    "    print(\"⚠️ 没有足够的历史数据，无法绘制趋势图。\")\n",
    "else:\n",
    "    stat = UniqueAuthorsStatistic()\n",
    "    stat.render_trend(sample_history)\n"
   ]
  },
  {
   "cell_type": "markdown",
   "id": "8b8db25b",
   "metadata": {},
   "source": [
    "## 导出到仪表盘\n",
    "\n",
    "确认逻辑后，可以在 `quickstart_dashboard_quickstart.ipynb` 中通过 `load_statistic_from_notebook` 将此类加载并注册到仪表盘。"
   ]
  }
 ],
 "metadata": {
  "kernelspec": {
   "display_name": "Python 3",
   "language": "python",
   "name": "python3"
  }
 },
 "nbformat": 4,
 "nbformat_minor": 5
}
