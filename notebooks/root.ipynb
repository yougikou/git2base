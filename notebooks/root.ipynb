{
 "cells": [
  {
   "cell_type": "code",
   "execution_count": 1,
   "id": "736faf99",
   "metadata": {},
   "outputs": [],
   "source": [
    "import os, json, hashlib, tempfile\n",
    "from pathlib import Path\n",
    "import ipywidgets as W\n",
    "from IPython.display import display, HTML\n",
    "import papermill as pm\n",
    "import nbformat\n",
    "from nbconvert import HTMLExporter"
   ]
  },
  {
   "cell_type": "code",
   "execution_count": 2,
   "id": "2bda5040",
   "metadata": {},
   "outputs": [],
   "source": [
    "ARTIFACTS = Path(\"artifacts\")\n",
    "\n",
    "def _cache_dir_for(proj: str, run: str) -> Path:\n",
    "    d = ARTIFACTS / proj / \"runs\" / run / \"panel\" / \"embed\"\n",
    "    d.mkdir(parents=True, exist_ok=True)\n",
    "    return d\n",
    "\n",
    "def _hash_params(nb_path: str, params: dict) -> str:\n",
    "    h = hashlib.sha256()\n",
    "    h.update(nb_path.encode())\n",
    "    h.update(json.dumps(params, sort_keys=True, ensure_ascii=False).encode(\"utf-8\"))\n",
    "    return h.hexdigest()[:16]\n",
    "\n",
    "def execute_notebook_to_html_cached(nb_path: str, params: dict, cache_dir: Path) -> str:\n",
    "    key = _hash_params(nb_path, params)\n",
    "    cache_file = cache_dir / f\"{Path(nb_path).stem}-{key}.html\"\n",
    "    if cache_file.exists():\n",
    "        return cache_file.read_text(encoding=\"utf-8\")\n",
    "\n",
    "    with tempfile.TemporaryDirectory() as td:\n",
    "        out_ipynb = Path(td) / \"executed.ipynb\"\n",
    "        pm.execute_notebook(nb_path, str(out_ipynb), parameters=params, report_mode=True, progress_bar=False)\n",
    "        nb = nbformat.read(out_ipynb, as_version=4)\n",
    "        exp = HTMLExporter()\n",
    "        exp.exclude_input = True           # Hide code cells\n",
    "        exp.exclude_input_prompt = True\n",
    "        body, _ = exp.from_notebook_node(nb)\n",
    "\n",
    "    cache_file.write_text(body, encoding=\"utf-8\")\n",
    "    return body"
   ]
  },
  {
   "cell_type": "code",
   "execution_count": 3,
   "id": "a2aea66a",
   "metadata": {},
   "outputs": [
    {
     "data": {
      "application/vnd.jupyter.widget-view+json": {
       "model_id": "bf2581fd6e7c4b82b6699696a02e4606",
       "version_major": 2,
       "version_minor": 0
      },
      "text/plain": [
       "VBox(children=(HBox(children=(Dropdown(description='Project', layout=Layout(width='300px'), options=(), value=…"
      ]
     },
     "metadata": {},
     "output_type": "display_data"
    }
   ],
   "source": [
    "def _list_projects():\n",
    "    return sorted([p.name for p in ARTIFACTS.glob(\"*\") if p.is_dir()])\n",
    "\n",
    "def _list_runs(proj: str):\n",
    "    return sorted([r.name for r in (ARTIFACTS/proj/\"runs\").glob(\"*\") if r.is_dir()])\n",
    "\n",
    "dd_proj = W.Dropdown(options=_list_projects(), description=\"Project\", layout=W.Layout(width=\"300px\"))\n",
    "dd_run  = W.Dropdown(options=_list_runs(dd_proj.value) if dd_proj.value else [], description=\"Run\", layout=W.Layout(width=\"300px\"))\n",
    "dd_proj.observe(lambda ch: setattr(dd_run, \"options\", _list_runs(dd_proj.value)), names=\"value\")\n",
    "\n",
    "dd_stack = W.SelectMultiple(options=[\"python\",\"java\",\"js\"], description=\"TechStack\", layout=W.Layout(width=\"300px\", height=\"120px\"))\n",
    "dd_stat  = W.Dropdown(options=[(\"大小分布\",\"size_dist\"),(\"数量\",\"count\")], description=\"统计\", layout=W.Layout(width=\"300px\"))\n",
    "\n",
    "btn_load = W.Button(description=\"加载结果\", button_style=\"primary\")\n",
    "out = W.Output()\n",
    "\n",
    "display(W.VBox([\n",
    "    W.HBox([dd_proj, dd_run]),\n",
    "    W.HBox([dd_stack, dd_stat, btn_load]),\n",
    "    out\n",
    "]))"
   ]
  },
  {
   "cell_type": "code",
   "execution_count": 6,
   "id": "a62b00ed",
   "metadata": {},
   "outputs": [],
   "source": [
    "def render():\n",
    "    out.clear_output()\n",
    "    proj, run = dd_proj.value, dd_run.value\n",
    "    if not (proj and run):\n",
    "        with out: display(HTML(\"<b>请选择 Project 与 Run</b>\"))\n",
    "        return\n",
    "\n",
    "    run_dir = str(ARTIFACTS / proj / \"runs\" / run)\n",
    "    stacks = list(dd_stack.value) or [\"python\"]\n",
    "    cache_dir = _cache_dir_for(proj, run)\n",
    "\n",
    "    with out:\n",
    "        display(HTML(f\"<h2>Run: {proj}/{run}</h2>\"))\n",
    "\n",
    "        # First level: tech stack; second level: statistic type\n",
    "        for s in stacks:\n",
    "            display(HTML(f\"<h3>TechStack: {s}</h3>\"))\n",
    "            html = execute_notebook_to_html_cached(\n",
    "                \"notebooks/parts/techstack_panel.ipynb\",\n",
    "                {\"RUN_DIR\": run_dir, \"TECH_STACK\": s, \"STAT\": dd_stat.value},\n",
    "                cache_dir\n",
    "            )\n",
    "            display(HTML(html))\n",
    "\n",
    "        # Cross-run trends\n",
    "        display(HTML(\"<hr><h3>跨 run 趋势</h3>\"))\n",
    "        html = execute_notebook_to_html_cached(\n",
    "            \"notebooks/parts/trend_panel.ipynb\",\n",
    "            {\"PROJECT_ID\": proj},\n",
    "            cache_dir   # You can also use artifacts/<project>/panel/embed as the cache directory\n",
    "        )\n",
    "        display(HTML(html))\n",
    "\n",
    "btn_load.on_click(lambda _: render())"
   ]
  }
 ],
 "metadata": {
  "kernelspec": {
   "display_name": "venv",
   "language": "python",
   "name": "python3"
  },
  "language_info": {
   "codemirror_mode": {
    "name": "ipython",
    "version": 3
   },
   "file_extension": ".py",
   "mimetype": "text/x-python",
   "name": "python",
   "nbconvert_exporter": "python",
   "pygments_lexer": "ipython3",
   "version": "3.13.7"
  }
 },
 "nbformat": 4,
 "nbformat_minor": 5
}
