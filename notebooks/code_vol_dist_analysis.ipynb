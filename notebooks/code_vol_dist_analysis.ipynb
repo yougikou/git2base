{
 "cells": [
  {
   "cell_type": "markdown",
   "id": "a28bd7bf",
   "metadata": {},
   "source": [
    "# Git 分析 Notebook\n",
    "统计每个 commit 中各个预定义技术栈文件的数量和代码量"
   ]
  },
  {
   "cell_type": "markdown",
   "id": "e43e4af1",
   "metadata": {},
   "source": [
    "### 从Data路径下加载多个分析结果"
   ]
  },
  {
   "cell_type": "code",
   "execution_count": 3,
   "id": "26766074",
   "metadata": {},
   "outputs": [
    {
     "name": "stdout",
     "output_type": "stream",
     "text": [
      "✅ 已设置字体为：Arial Unicode MS\n"
     ]
    },
    {
     "data": {
      "application/vnd.jupyter.widget-view+json": {
       "model_id": "07fad35b39c046a28e2204dad4ef5a59",
       "version_major": 2,
       "version_minor": 0
      },
      "text/plain": [
       "Dropdown(description='Repo:', layout=Layout(width='50%'), options=('git2base',), value='git2base')"
      ]
     },
     "metadata": {},
     "output_type": "display_data"
    },
    {
     "data": {
      "application/vnd.jupyter.widget-view+json": {
       "model_id": "b005661489de45068e3e0d60e30214bd",
       "version_major": 2,
       "version_minor": 0
      },
      "text/plain": [
       "Dropdown(description='Run:', layout=Layout(width='50%'), options=('snapshot_20250728_155908', 'snapshot_202507…"
      ]
     },
     "metadata": {},
     "output_type": "display_data"
    }
   ],
   "source": [
    "from notebook_utils import select_repo_and_run, set_cjk_font\n",
    "\n",
    "set_cjk_font()\n",
    "\n",
    "base_dir=\"../data\"\n",
    "repo_selector, run_selector = select_repo_and_run(base_dir)"
   ]
  },
  {
   "cell_type": "markdown",
   "id": "5f0087d7",
   "metadata": {},
   "source": [
    "### 从选择路径下加载CSV"
   ]
  },
  {
   "cell_type": "code",
   "execution_count": 8,
   "id": "56c57c43",
   "metadata": {},
   "outputs": [
    {
     "name": "stdout",
     "output_type": "stream",
     "text": [
      "Selected path: ../data/git2base/snapshot_20250728_155908\n",
      "✅ Loaded: commit_files.csv (27 rows)\n",
      "❌ File not found: diff_results.csv\n",
      "✅ Loaded: analysis_results.csv (16 rows)\n",
      "✅ Loaded: commits.csv (1 rows)\n"
     ]
    }
   ],
   "source": [
    "from typing import cast\n",
    "\n",
    "from pandas import DataFrame\n",
    "from notebook_utils import load_csv_results\n",
    "\n",
    "selected_path, loaded_dfs = load_csv_results(repo_selector, run_selector, base_dir)\n",
    "\n",
    "# 使用具体的 DataFrame\n",
    "commit_files_df = cast(DataFrame, loaded_dfs.get(\"commit_files_df\"))\n",
    "diff_results_df = cast(DataFrame, loaded_dfs.get(\"diff_results_df\"))\n",
    "analysis_results_df = cast(DataFrame, loaded_dfs.get(\"analysis_results_df\"))\n",
    "commits_df = cast(DataFrame, loaded_dfs.get(\"commits_df\"))"
   ]
  },
  {
   "cell_type": "markdown",
   "id": "438a4c83",
   "metadata": {},
   "source": [
    "### 合并数据"
   ]
  },
  {
   "cell_type": "code",
   "execution_count": 9,
   "id": "2713499a",
   "metadata": {},
   "outputs": [
    {
     "data": {
      "text/plain": [
       "array([nan, 'FileLineCount', 'FileCharCount'], dtype=object)"
      ]
     },
     "execution_count": 9,
     "metadata": {},
     "output_type": "execute_result"
    }
   ],
   "source": [
    "import pandas as pd\n",
    "\n",
    "# 重命名 commits.csv 中的 hash 字段\n",
    "commits_df = commits_df.rename(columns={\"hash\": \"commit_hash\"})\n",
    "\n",
    "# 合并 commit_files 和 analysis_results（依据 commit_hash 和 path）\n",
    "merged_df = pd.merge(commit_files_df, analysis_results_df, on=[\"commit_hash\", \"path\"], how=\"left\")\n",
    "\n",
    "# 合并 commit 元数据\n",
    "merged_df = pd.merge(merged_df, commits_df, on=\"commit_hash\", how=\"left\")\n",
    "merged_df[\"analyzer_type\"].unique()\n"
   ]
  },
  {
   "cell_type": "markdown",
   "id": "60829b0c",
   "metadata": {},
   "source": [
    "### 提取行数和字符数的记录"
   ]
  },
  {
   "cell_type": "code",
   "execution_count": 10,
   "id": "49c34c50",
   "metadata": {},
   "outputs": [],
   "source": [
    "# 提取 line_count 和 char_count 两种分析类型的记录\n",
    "line_df = merged_df[merged_df[\"analyzer_type\"] == \"FileLineCount\"]\n",
    "char_df = merged_df[merged_df[\"analyzer_type\"] == \"FileCharCount\"]"
   ]
  },
  {
   "cell_type": "markdown",
   "id": "591709c7",
   "metadata": {},
   "source": [
    "### 统计每个技术栈代码的总数"
   ]
  },
  {
   "cell_type": "code",
   "execution_count": 11,
   "id": "da53610e",
   "metadata": {},
   "outputs": [
    {
     "data": {
      "text/html": [
       "<div>\n",
       "<style scoped>\n",
       "    .dataframe tbody tr th:only-of-type {\n",
       "        vertical-align: middle;\n",
       "    }\n",
       "\n",
       "    .dataframe tbody tr th {\n",
       "        vertical-align: top;\n",
       "    }\n",
       "\n",
       "    .dataframe thead th {\n",
       "        text-align: right;\n",
       "    }\n",
       "</style>\n",
       "<table border=\"1\" class=\"dataframe\">\n",
       "  <thead>\n",
       "    <tr style=\"text-align: right;\">\n",
       "      <th></th>\n",
       "      <th>tech_stack</th>\n",
       "      <th>total_char_count</th>\n",
       "      <th>file_count</th>\n",
       "    </tr>\n",
       "  </thead>\n",
       "  <tbody>\n",
       "    <tr>\n",
       "      <th>1</th>\n",
       "      <td>Python</td>\n",
       "      <td>30641.0</td>\n",
       "      <td>6</td>\n",
       "    </tr>\n",
       "    <tr>\n",
       "      <th>0</th>\n",
       "      <td>PyTest</td>\n",
       "      <td>2508.0</td>\n",
       "      <td>1</td>\n",
       "    </tr>\n",
       "    <tr>\n",
       "      <th>2</th>\n",
       "      <td>Yaml</td>\n",
       "      <td>1762.0</td>\n",
       "      <td>1</td>\n",
       "    </tr>\n",
       "  </tbody>\n",
       "</table>\n",
       "</div>"
      ],
      "text/plain": [
       "  tech_stack  total_char_count  file_count\n",
       "1     Python           30641.0           6\n",
       "0     PyTest            2508.0           1\n",
       "2       Yaml            1762.0           1"
      ]
     },
     "execution_count": 11,
     "metadata": {},
     "output_type": "execute_result"
    }
   ],
   "source": [
    "import pandas as pd\n",
    "import matplotlib.pyplot as plt\n",
    "\n",
    "# 提取 char_count 分析结果\n",
    "char_df = merged_df[merged_df[\"analyzer_type\"] == \"FileCharCount\"]\n",
    "\n",
    "# 按 tech_stack 统计字符总数\n",
    "char_summary = char_df.groupby(\"tech_stack\")[\"count\"].sum().reset_index(name=\"total_char_count\")\n",
    "\n",
    "# 按 tech_stack 统计文件数（唯一 path 数量）\n",
    "file_count_summary = commit_files_df.groupby(\"tech_stack\")[\"path\"].nunique().reset_index(name=\"file_count\")\n",
    "\n",
    "# 合并两个统计结果\n",
    "summary_df = pd.merge(char_summary, file_count_summary, on=\"tech_stack\", how=\"left\")\n",
    "\n",
    "# 排序（可选）\n",
    "summary_df = summary_df.sort_values(\"total_char_count\", ascending=False)\n",
    "\n",
    "# 过滤太小的比例（可选）\n",
    "summary_df = summary_df[summary_df[\"total_char_count\"] > 0]\n",
    "summary_df"
   ]
  },
  {
   "cell_type": "markdown",
   "id": "e182173e",
   "metadata": {},
   "source": [
    "### 绘制代码量分布图（按百分比，显示文件数量信息）"
   ]
  },
  {
   "cell_type": "code",
   "execution_count": 12,
   "id": "916a0c36",
   "metadata": {},
   "outputs": [
    {
     "data": {
      "image/png": "[encoded data removed]",
      "text/plain": [
       "<Figure size 800x800 with 1 Axes>"
      ]
     },
     "metadata": {},
     "output_type": "display_data"
    }
   ],
   "source": [
    "plt.figure(figsize=(8, 8))\n",
    "\n",
    "# 扇形图内容为 char 数量，标签为 tech_stack，附带文件数量\n",
    "labels = [\n",
    "    f\"{row['tech_stack']} ({row['file_count']} files)\"\n",
    "    for _, row in summary_df.iterrows()\n",
    "]\n",
    "\n",
    "plt.pie(\n",
    "    summary_df[\"total_char_count\"],\n",
    "    labels=labels,\n",
    "    autopct='%1.1f%%',\n",
    "    startangle=140\n",
    ")\n",
    "\n",
    "plt.title(\"按技术栈划分的代码量比例（含文件数量）\")\n",
    "plt.axis(\"equal\")  # 保证是圆形\n",
    "plt.tight_layout()\n",
    "plt.show()"
   ]
  },
  {
   "cell_type": "markdown",
   "id": "70324978",
   "metadata": {},
   "source": [
    "### 保存结果为 CSV"
   ]
  },
  {
   "cell_type": "code",
   "execution_count": 13,
   "id": "826378b3",
   "metadata": {},
   "outputs": [
    {
     "name": "stdout",
     "output_type": "stream",
     "text": [
      "✅ 已保存分析结果至 output/filechar_dist_by_techstack.csv\n"
     ]
    }
   ],
   "source": [
    "summary_df.to_csv(\"output/filechar_dist_by_techstack.csv\", index=False)\n",
    "print(\"✅ 已保存分析结果至 output/filechar_dist_by_techstack.csv\")\n"
   ]
  }
 ],
 "metadata": {
  "kernelspec": {
   "display_name": "venv",
   "language": "python",
   "name": "python3"
  },
  "language_info": {
   "codemirror_mode": {
    "name": "ipython",
    "version": 3
   },
   "file_extension": ".py",
   "mimetype": "text/x-python",
   "name": "python",
   "nbconvert_exporter": "python",
   "pygments_lexer": "ipython3",
   "version": "3.13.1"
  }
 },
 "nbformat": 4,
 "nbformat_minor": 5
}
